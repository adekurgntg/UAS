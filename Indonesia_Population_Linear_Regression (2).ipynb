{
  "cells": [
    {
      "cell_type": "markdown",
      "source": [
        "TB Praktikum Kecerdasan Buatan"
      ],
      "metadata": {
        "id": "JIBloI9DUzh6"
      }
    },
    {
      "cell_type": "markdown",
      "source": [
        "Ade Kurnia (2106029)"
      ],
      "metadata": {
        "id": "RhexqXqEZLPs"
      }
    },
    {
      "cell_type": "markdown",
      "source": [
        "Zhillan M Faza (2106115)"
      ],
      "metadata": {
        "id": "FxBcTVP6ZT9v"
      }
    },
    {
      "cell_type": "code",
      "execution_count": null,
      "metadata": {
        "id": "yaYuEgLaRH1e"
      },
      "outputs": [],
      "source": [
        "#Impor library yang diperlukan:\n",
        "import pandas as pd\n",
        "from sklearn.model_selection import train_test_split\n",
        "from sklearn.linear_model import LinearRegression\n",
        "from sklearn.metrics import mean_absolute_error\n",
        "import matplotlib.pyplot as plt"
      ]
    },
    {
      "cell_type": "code",
      "execution_count": null,
      "metadata": {
        "colab": {
          "base_uri": "https://localhost:8080/",
          "height": 692
        },
        "id": "aKwC9D5yObJG",
        "outputId": "944cca09-8fb5-45bb-db31-9ae788b4f7f7"
      },
      "outputs": [
        {
          "output_type": "execute_result",
          "data": {
            "text/plain": [
              "    Year  Population  Yearly % Change  Yearly Change  Migrants (net)  \\\n",
              "0   2020   273523615             1.07        2898047          -98955   \n",
              "1   2019   270625568             1.10        2955025          -98955   \n",
              "2   2018   267670543             1.14        3019580          -98955   \n",
              "3   2017   264650963             1.18        3094582          -98955   \n",
              "4   2016   261556381             1.23        3173125          -98955   \n",
              "5   2015   258383256             1.33        3309808          -90889   \n",
              "6   2010   241834215             1.34        3108949         -266737   \n",
              "7   2005   226289470             1.36        2955129         -229931   \n",
              "8   2000   211513823             1.44        2915913          -13534   \n",
              "9   1995   196934260             1.66        3104172           -7082   \n",
              "10  1990   181413402             1.92        3286190           52256   \n",
              "11  1985   164982451             2.27        3506923           95016   \n",
              "12  1980   147447836             2.44        3353422           75749   \n",
              "13  1975   130680727             2.63        3177510          101655   \n",
              "14  1970   114793178             2.74        2905223          111212   \n",
              "15  1965   100267062             2.70        2503199           89993   \n",
              "16  1960    87751068             2.58        2095529           80536   \n",
              "17  1955    77273425             2.13        1546022           75743   \n",
              "\n",
              "    Median Age  Fertility Rate  Density (P/Km²)  Urban Pop %  \\\n",
              "0         29.7            2.32              151         56.4   \n",
              "1         28.8            2.42              149         55.8   \n",
              "2         28.8            2.42              148         55.1   \n",
              "3         28.8            2.42              146         54.5   \n",
              "4         28.8            2.42              144         53.9   \n",
              "5         28.5            2.45              143         53.3   \n",
              "6         27.2            2.50              133         50.1   \n",
              "7         25.6            2.53              125         46.0   \n",
              "8         24.4            2.55              117         42.0   \n",
              "9         22.8            2.90              109         36.1   \n",
              "10        21.3            3.40              100         30.6   \n",
              "11        19.9            4.11               91         26.1   \n",
              "12        19.1            4.73               81         22.1   \n",
              "13        18.5            5.30               72         19.3   \n",
              "14        18.6            5.57               63         17.1   \n",
              "15        19.4            5.62               55         15.8   \n",
              "16        20.2            5.67               48         14.6   \n",
              "17        20.4            5.49               43         13.5   \n",
              "\n",
              "    Urban Population  Country's Share of World Pop  World Population  \\\n",
              "0          154188546                          3.51        7794798739   \n",
              "1          150900390                          3.51        7713468100   \n",
              "2          147603006                          3.51        7631091040   \n",
              "3          144294861                          3.51        7547858925   \n",
              "4          140972925                          3.50        7464022049   \n",
              "5          137634761                          3.50        7379797139   \n",
              "6          121052980                          3.48        6956823603   \n",
              "7          104155654                          3.46        6541907027   \n",
              "8           88851487                          3.44        6143493823   \n",
              "9           71053577                          3.43        5744212979   \n",
              "10          55491343                          3.41        5327231061   \n",
              "11          43049412                          3.39        4870921740   \n",
              "12          32601807                          3.31        4458003514   \n",
              "13          25252096                          3.20        4079480606   \n",
              "14          19603959                          3.10        3700437046   \n",
              "15          15838170                          3.00        3339583597   \n",
              "16          12805184                          2.89        3034949748   \n",
              "17          10404671                          2.79        2773019936   \n",
              "\n",
              "    Indonesia Global Rank  \n",
              "0                       4  \n",
              "1                       4  \n",
              "2                       4  \n",
              "3                       4  \n",
              "4                       4  \n",
              "5                       4  \n",
              "6                       4  \n",
              "7                       4  \n",
              "8                       4  \n",
              "9                       4  \n",
              "10                      4  \n",
              "11                      4  \n",
              "12                      4  \n",
              "13                      5  \n",
              "14                      5  \n",
              "15                      6  \n",
              "16                      6  \n",
              "17                      6  "
            ],
            "text/html": [
              "\n",
              "  <div id=\"df-e21b0874-c192-40f1-a2ad-29404a92359d\">\n",
              "    <div class=\"colab-df-container\">\n",
              "      <div>\n",
              "<style scoped>\n",
              "    .dataframe tbody tr th:only-of-type {\n",
              "        vertical-align: middle;\n",
              "    }\n",
              "\n",
              "    .dataframe tbody tr th {\n",
              "        vertical-align: top;\n",
              "    }\n",
              "\n",
              "    .dataframe thead th {\n",
              "        text-align: right;\n",
              "    }\n",
              "</style>\n",
              "<table border=\"1\" class=\"dataframe\">\n",
              "  <thead>\n",
              "    <tr style=\"text-align: right;\">\n",
              "      <th></th>\n",
              "      <th>Year</th>\n",
              "      <th>Population</th>\n",
              "      <th>Yearly % Change</th>\n",
              "      <th>Yearly Change</th>\n",
              "      <th>Migrants (net)</th>\n",
              "      <th>Median Age</th>\n",
              "      <th>Fertility Rate</th>\n",
              "      <th>Density (P/Km²)</th>\n",
              "      <th>Urban Pop %</th>\n",
              "      <th>Urban Population</th>\n",
              "      <th>Country's Share of World Pop</th>\n",
              "      <th>World Population</th>\n",
              "      <th>Indonesia Global Rank</th>\n",
              "    </tr>\n",
              "  </thead>\n",
              "  <tbody>\n",
              "    <tr>\n",
              "      <th>0</th>\n",
              "      <td>2020</td>\n",
              "      <td>273523615</td>\n",
              "      <td>1.07</td>\n",
              "      <td>2898047</td>\n",
              "      <td>-98955</td>\n",
              "      <td>29.7</td>\n",
              "      <td>2.32</td>\n",
              "      <td>151</td>\n",
              "      <td>56.4</td>\n",
              "      <td>154188546</td>\n",
              "      <td>3.51</td>\n",
              "      <td>7794798739</td>\n",
              "      <td>4</td>\n",
              "    </tr>\n",
              "    <tr>\n",
              "      <th>1</th>\n",
              "      <td>2019</td>\n",
              "      <td>270625568</td>\n",
              "      <td>1.10</td>\n",
              "      <td>2955025</td>\n",
              "      <td>-98955</td>\n",
              "      <td>28.8</td>\n",
              "      <td>2.42</td>\n",
              "      <td>149</td>\n",
              "      <td>55.8</td>\n",
              "      <td>150900390</td>\n",
              "      <td>3.51</td>\n",
              "      <td>7713468100</td>\n",
              "      <td>4</td>\n",
              "    </tr>\n",
              "    <tr>\n",
              "      <th>2</th>\n",
              "      <td>2018</td>\n",
              "      <td>267670543</td>\n",
              "      <td>1.14</td>\n",
              "      <td>3019580</td>\n",
              "      <td>-98955</td>\n",
              "      <td>28.8</td>\n",
              "      <td>2.42</td>\n",
              "      <td>148</td>\n",
              "      <td>55.1</td>\n",
              "      <td>147603006</td>\n",
              "      <td>3.51</td>\n",
              "      <td>7631091040</td>\n",
              "      <td>4</td>\n",
              "    </tr>\n",
              "    <tr>\n",
              "      <th>3</th>\n",
              "      <td>2017</td>\n",
              "      <td>264650963</td>\n",
              "      <td>1.18</td>\n",
              "      <td>3094582</td>\n",
              "      <td>-98955</td>\n",
              "      <td>28.8</td>\n",
              "      <td>2.42</td>\n",
              "      <td>146</td>\n",
              "      <td>54.5</td>\n",
              "      <td>144294861</td>\n",
              "      <td>3.51</td>\n",
              "      <td>7547858925</td>\n",
              "      <td>4</td>\n",
              "    </tr>\n",
              "    <tr>\n",
              "      <th>4</th>\n",
              "      <td>2016</td>\n",
              "      <td>261556381</td>\n",
              "      <td>1.23</td>\n",
              "      <td>3173125</td>\n",
              "      <td>-98955</td>\n",
              "      <td>28.8</td>\n",
              "      <td>2.42</td>\n",
              "      <td>144</td>\n",
              "      <td>53.9</td>\n",
              "      <td>140972925</td>\n",
              "      <td>3.50</td>\n",
              "      <td>7464022049</td>\n",
              "      <td>4</td>\n",
              "    </tr>\n",
              "    <tr>\n",
              "      <th>5</th>\n",
              "      <td>2015</td>\n",
              "      <td>258383256</td>\n",
              "      <td>1.33</td>\n",
              "      <td>3309808</td>\n",
              "      <td>-90889</td>\n",
              "      <td>28.5</td>\n",
              "      <td>2.45</td>\n",
              "      <td>143</td>\n",
              "      <td>53.3</td>\n",
              "      <td>137634761</td>\n",
              "      <td>3.50</td>\n",
              "      <td>7379797139</td>\n",
              "      <td>4</td>\n",
              "    </tr>\n",
              "    <tr>\n",
              "      <th>6</th>\n",
              "      <td>2010</td>\n",
              "      <td>241834215</td>\n",
              "      <td>1.34</td>\n",
              "      <td>3108949</td>\n",
              "      <td>-266737</td>\n",
              "      <td>27.2</td>\n",
              "      <td>2.50</td>\n",
              "      <td>133</td>\n",
              "      <td>50.1</td>\n",
              "      <td>121052980</td>\n",
              "      <td>3.48</td>\n",
              "      <td>6956823603</td>\n",
              "      <td>4</td>\n",
              "    </tr>\n",
              "    <tr>\n",
              "      <th>7</th>\n",
              "      <td>2005</td>\n",
              "      <td>226289470</td>\n",
              "      <td>1.36</td>\n",
              "      <td>2955129</td>\n",
              "      <td>-229931</td>\n",
              "      <td>25.6</td>\n",
              "      <td>2.53</td>\n",
              "      <td>125</td>\n",
              "      <td>46.0</td>\n",
              "      <td>104155654</td>\n",
              "      <td>3.46</td>\n",
              "      <td>6541907027</td>\n",
              "      <td>4</td>\n",
              "    </tr>\n",
              "    <tr>\n",
              "      <th>8</th>\n",
              "      <td>2000</td>\n",
              "      <td>211513823</td>\n",
              "      <td>1.44</td>\n",
              "      <td>2915913</td>\n",
              "      <td>-13534</td>\n",
              "      <td>24.4</td>\n",
              "      <td>2.55</td>\n",
              "      <td>117</td>\n",
              "      <td>42.0</td>\n",
              "      <td>88851487</td>\n",
              "      <td>3.44</td>\n",
              "      <td>6143493823</td>\n",
              "      <td>4</td>\n",
              "    </tr>\n",
              "    <tr>\n",
              "      <th>9</th>\n",
              "      <td>1995</td>\n",
              "      <td>196934260</td>\n",
              "      <td>1.66</td>\n",
              "      <td>3104172</td>\n",
              "      <td>-7082</td>\n",
              "      <td>22.8</td>\n",
              "      <td>2.90</td>\n",
              "      <td>109</td>\n",
              "      <td>36.1</td>\n",
              "      <td>71053577</td>\n",
              "      <td>3.43</td>\n",
              "      <td>5744212979</td>\n",
              "      <td>4</td>\n",
              "    </tr>\n",
              "    <tr>\n",
              "      <th>10</th>\n",
              "      <td>1990</td>\n",
              "      <td>181413402</td>\n",
              "      <td>1.92</td>\n",
              "      <td>3286190</td>\n",
              "      <td>52256</td>\n",
              "      <td>21.3</td>\n",
              "      <td>3.40</td>\n",
              "      <td>100</td>\n",
              "      <td>30.6</td>\n",
              "      <td>55491343</td>\n",
              "      <td>3.41</td>\n",
              "      <td>5327231061</td>\n",
              "      <td>4</td>\n",
              "    </tr>\n",
              "    <tr>\n",
              "      <th>11</th>\n",
              "      <td>1985</td>\n",
              "      <td>164982451</td>\n",
              "      <td>2.27</td>\n",
              "      <td>3506923</td>\n",
              "      <td>95016</td>\n",
              "      <td>19.9</td>\n",
              "      <td>4.11</td>\n",
              "      <td>91</td>\n",
              "      <td>26.1</td>\n",
              "      <td>43049412</td>\n",
              "      <td>3.39</td>\n",
              "      <td>4870921740</td>\n",
              "      <td>4</td>\n",
              "    </tr>\n",
              "    <tr>\n",
              "      <th>12</th>\n",
              "      <td>1980</td>\n",
              "      <td>147447836</td>\n",
              "      <td>2.44</td>\n",
              "      <td>3353422</td>\n",
              "      <td>75749</td>\n",
              "      <td>19.1</td>\n",
              "      <td>4.73</td>\n",
              "      <td>81</td>\n",
              "      <td>22.1</td>\n",
              "      <td>32601807</td>\n",
              "      <td>3.31</td>\n",
              "      <td>4458003514</td>\n",
              "      <td>4</td>\n",
              "    </tr>\n",
              "    <tr>\n",
              "      <th>13</th>\n",
              "      <td>1975</td>\n",
              "      <td>130680727</td>\n",
              "      <td>2.63</td>\n",
              "      <td>3177510</td>\n",
              "      <td>101655</td>\n",
              "      <td>18.5</td>\n",
              "      <td>5.30</td>\n",
              "      <td>72</td>\n",
              "      <td>19.3</td>\n",
              "      <td>25252096</td>\n",
              "      <td>3.20</td>\n",
              "      <td>4079480606</td>\n",
              "      <td>5</td>\n",
              "    </tr>\n",
              "    <tr>\n",
              "      <th>14</th>\n",
              "      <td>1970</td>\n",
              "      <td>114793178</td>\n",
              "      <td>2.74</td>\n",
              "      <td>2905223</td>\n",
              "      <td>111212</td>\n",
              "      <td>18.6</td>\n",
              "      <td>5.57</td>\n",
              "      <td>63</td>\n",
              "      <td>17.1</td>\n",
              "      <td>19603959</td>\n",
              "      <td>3.10</td>\n",
              "      <td>3700437046</td>\n",
              "      <td>5</td>\n",
              "    </tr>\n",
              "    <tr>\n",
              "      <th>15</th>\n",
              "      <td>1965</td>\n",
              "      <td>100267062</td>\n",
              "      <td>2.70</td>\n",
              "      <td>2503199</td>\n",
              "      <td>89993</td>\n",
              "      <td>19.4</td>\n",
              "      <td>5.62</td>\n",
              "      <td>55</td>\n",
              "      <td>15.8</td>\n",
              "      <td>15838170</td>\n",
              "      <td>3.00</td>\n",
              "      <td>3339583597</td>\n",
              "      <td>6</td>\n",
              "    </tr>\n",
              "    <tr>\n",
              "      <th>16</th>\n",
              "      <td>1960</td>\n",
              "      <td>87751068</td>\n",
              "      <td>2.58</td>\n",
              "      <td>2095529</td>\n",
              "      <td>80536</td>\n",
              "      <td>20.2</td>\n",
              "      <td>5.67</td>\n",
              "      <td>48</td>\n",
              "      <td>14.6</td>\n",
              "      <td>12805184</td>\n",
              "      <td>2.89</td>\n",
              "      <td>3034949748</td>\n",
              "      <td>6</td>\n",
              "    </tr>\n",
              "    <tr>\n",
              "      <th>17</th>\n",
              "      <td>1955</td>\n",
              "      <td>77273425</td>\n",
              "      <td>2.13</td>\n",
              "      <td>1546022</td>\n",
              "      <td>75743</td>\n",
              "      <td>20.4</td>\n",
              "      <td>5.49</td>\n",
              "      <td>43</td>\n",
              "      <td>13.5</td>\n",
              "      <td>10404671</td>\n",
              "      <td>2.79</td>\n",
              "      <td>2773019936</td>\n",
              "      <td>6</td>\n",
              "    </tr>\n",
              "  </tbody>\n",
              "</table>\n",
              "</div>\n",
              "      <button class=\"colab-df-convert\" onclick=\"convertToInteractive('df-e21b0874-c192-40f1-a2ad-29404a92359d')\"\n",
              "              title=\"Convert this dataframe to an interactive table.\"\n",
              "              style=\"display:none;\">\n",
              "        \n",
              "  <svg xmlns=\"http://www.w3.org/2000/svg\" height=\"24px\"viewBox=\"0 0 24 24\"\n",
              "       width=\"24px\">\n",
              "    <path d=\"M0 0h24v24H0V0z\" fill=\"none\"/>\n",
              "    <path d=\"M18.56 5.44l.94 2.06.94-2.06 2.06-.94-2.06-.94-.94-2.06-.94 2.06-2.06.94zm-11 1L8.5 8.5l.94-2.06 2.06-.94-2.06-.94L8.5 2.5l-.94 2.06-2.06.94zm10 10l.94 2.06.94-2.06 2.06-.94-2.06-.94-.94-2.06-.94 2.06-2.06.94z\"/><path d=\"M17.41 7.96l-1.37-1.37c-.4-.4-.92-.59-1.43-.59-.52 0-1.04.2-1.43.59L10.3 9.45l-7.72 7.72c-.78.78-.78 2.05 0 2.83L4 21.41c.39.39.9.59 1.41.59.51 0 1.02-.2 1.41-.59l7.78-7.78 2.81-2.81c.8-.78.8-2.07 0-2.86zM5.41 20L4 18.59l7.72-7.72 1.47 1.35L5.41 20z\"/>\n",
              "  </svg>\n",
              "      </button>\n",
              "      \n",
              "  <style>\n",
              "    .colab-df-container {\n",
              "      display:flex;\n",
              "      flex-wrap:wrap;\n",
              "      gap: 12px;\n",
              "    }\n",
              "\n",
              "    .colab-df-convert {\n",
              "      background-color: #E8F0FE;\n",
              "      border: none;\n",
              "      border-radius: 50%;\n",
              "      cursor: pointer;\n",
              "      display: none;\n",
              "      fill: #1967D2;\n",
              "      height: 32px;\n",
              "      padding: 0 0 0 0;\n",
              "      width: 32px;\n",
              "    }\n",
              "\n",
              "    .colab-df-convert:hover {\n",
              "      background-color: #E2EBFA;\n",
              "      box-shadow: 0px 1px 2px rgba(60, 64, 67, 0.3), 0px 1px 3px 1px rgba(60, 64, 67, 0.15);\n",
              "      fill: #174EA6;\n",
              "    }\n",
              "\n",
              "    [theme=dark] .colab-df-convert {\n",
              "      background-color: #3B4455;\n",
              "      fill: #D2E3FC;\n",
              "    }\n",
              "\n",
              "    [theme=dark] .colab-df-convert:hover {\n",
              "      background-color: #434B5C;\n",
              "      box-shadow: 0px 1px 3px 1px rgba(0, 0, 0, 0.15);\n",
              "      filter: drop-shadow(0px 1px 2px rgba(0, 0, 0, 0.3));\n",
              "      fill: #FFFFFF;\n",
              "    }\n",
              "  </style>\n",
              "\n",
              "      <script>\n",
              "        const buttonEl =\n",
              "          document.querySelector('#df-e21b0874-c192-40f1-a2ad-29404a92359d button.colab-df-convert');\n",
              "        buttonEl.style.display =\n",
              "          google.colab.kernel.accessAllowed ? 'block' : 'none';\n",
              "\n",
              "        async function convertToInteractive(key) {\n",
              "          const element = document.querySelector('#df-e21b0874-c192-40f1-a2ad-29404a92359d');\n",
              "          const dataTable =\n",
              "            await google.colab.kernel.invokeFunction('convertToInteractive',\n",
              "                                                     [key], {});\n",
              "          if (!dataTable) return;\n",
              "\n",
              "          const docLinkHtml = 'Like what you see? Visit the ' +\n",
              "            '<a target=\"_blank\" href=https://colab.research.google.com/notebooks/data_table.ipynb>data table notebook</a>'\n",
              "            + ' to learn more about interactive tables.';\n",
              "          element.innerHTML = '';\n",
              "          dataTable['output_type'] = 'display_data';\n",
              "          await google.colab.output.renderOutput(dataTable, element);\n",
              "          const docLink = document.createElement('div');\n",
              "          docLink.innerHTML = docLinkHtml;\n",
              "          element.appendChild(docLink);\n",
              "        }\n",
              "      </script>\n",
              "    </div>\n",
              "  </div>\n",
              "  "
            ]
          },
          "metadata": {},
          "execution_count": 3
        }
      ],
      "source": [
        "#Impor dataset:\n",
        "dataset = pd.read_csv('indonesia_population.csv')\n",
        "dataset"
      ]
    },
    {
      "cell_type": "code",
      "source": [
        "dataset.shape"
      ],
      "metadata": {
        "colab": {
          "base_uri": "https://localhost:8080/"
        },
        "id": "21TH-WH2WtM2",
        "outputId": "08079492-6593-499f-bf43-c4bb6951ea5a"
      },
      "execution_count": null,
      "outputs": [
        {
          "output_type": "execute_result",
          "data": {
            "text/plain": [
              "(18, 13)"
            ]
          },
          "metadata": {},
          "execution_count": 4
        }
      ]
    },
    {
      "cell_type": "code",
      "execution_count": null,
      "metadata": {
        "colab": {
          "base_uri": "https://localhost:8080/"
        },
        "id": "4TmKgYxuRKai",
        "outputId": "f7e7f8fe-8eee-4ab5-83dd-0234756fb04f"
      },
      "outputs": [
        {
          "output_type": "stream",
          "name": "stdout",
          "text": [
            "Year                            0\n",
            "Population                      0\n",
            "Yearly % Change                 0\n",
            "Yearly Change                   0\n",
            "Migrants (net)                  0\n",
            "Median Age                      0\n",
            "Fertility Rate                  0\n",
            "Density (P/Km²)                 0\n",
            "Urban Pop %                     0\n",
            "Urban Population                0\n",
            "Country's Share of World Pop    0\n",
            "World Population                0\n",
            "Indonesia Global Rank           0\n",
            "dtype: int64\n"
          ]
        }
      ],
      "source": [
        "#Pengecekan missing value:\n",
        "print(dataset.isnull().sum())\n",
        "# Jika ada missing value, lakukan pengisian atau penghapusan\n",
        "# dataset = dataset.dropna()  # Jika ingin menghapus baris dengan missing value\n",
        "# dataset = dataset.fillna(0)  # Jika ingin mengisi missing value dengan angka 0"
      ]
    },
    {
      "cell_type": "code",
      "execution_count": null,
      "metadata": {
        "id": "2kxvDBMcZ4pA"
      },
      "outputs": [],
      "source": [
        "# Memilih fitur yang relevan\n",
        "X = dataset[['Year']]\n",
        "y = dataset[['Population']]"
      ]
    },
    {
      "cell_type": "code",
      "execution_count": null,
      "metadata": {
        "id": "JFnfY2CGRMDh"
      },
      "outputs": [],
      "source": [
        "#Memisahkan data menjadi data pelatihan dan data pengujian:\n",
        "X_train, X_test, y_train, y_test = train_test_split(X, y, test_size=0.2, random_state=0)"
      ]
    },
    {
      "cell_type": "code",
      "execution_count": null,
      "metadata": {
        "colab": {
          "base_uri": "https://localhost:8080/",
          "height": 74
        },
        "id": "y4Q5x3uZRP5e",
        "outputId": "43cb9919-79a4-474f-9ece-ae7816f5d55b"
      },
      "outputs": [
        {
          "output_type": "execute_result",
          "data": {
            "text/plain": [
              "LinearRegression()"
            ],
            "text/html": [
              "<style>#sk-container-id-1 {color: black;background-color: white;}#sk-container-id-1 pre{padding: 0;}#sk-container-id-1 div.sk-toggleable {background-color: white;}#sk-container-id-1 label.sk-toggleable__label {cursor: pointer;display: block;width: 100%;margin-bottom: 0;padding: 0.3em;box-sizing: border-box;text-align: center;}#sk-container-id-1 label.sk-toggleable__label-arrow:before {content: \"▸\";float: left;margin-right: 0.25em;color: #696969;}#sk-container-id-1 label.sk-toggleable__label-arrow:hover:before {color: black;}#sk-container-id-1 div.sk-estimator:hover label.sk-toggleable__label-arrow:before {color: black;}#sk-container-id-1 div.sk-toggleable__content {max-height: 0;max-width: 0;overflow: hidden;text-align: left;background-color: #f0f8ff;}#sk-container-id-1 div.sk-toggleable__content pre {margin: 0.2em;color: black;border-radius: 0.25em;background-color: #f0f8ff;}#sk-container-id-1 input.sk-toggleable__control:checked~div.sk-toggleable__content {max-height: 200px;max-width: 100%;overflow: auto;}#sk-container-id-1 input.sk-toggleable__control:checked~label.sk-toggleable__label-arrow:before {content: \"▾\";}#sk-container-id-1 div.sk-estimator input.sk-toggleable__control:checked~label.sk-toggleable__label {background-color: #d4ebff;}#sk-container-id-1 div.sk-label input.sk-toggleable__control:checked~label.sk-toggleable__label {background-color: #d4ebff;}#sk-container-id-1 input.sk-hidden--visually {border: 0;clip: rect(1px 1px 1px 1px);clip: rect(1px, 1px, 1px, 1px);height: 1px;margin: -1px;overflow: hidden;padding: 0;position: absolute;width: 1px;}#sk-container-id-1 div.sk-estimator {font-family: monospace;background-color: #f0f8ff;border: 1px dotted black;border-radius: 0.25em;box-sizing: border-box;margin-bottom: 0.5em;}#sk-container-id-1 div.sk-estimator:hover {background-color: #d4ebff;}#sk-container-id-1 div.sk-parallel-item::after {content: \"\";width: 100%;border-bottom: 1px solid gray;flex-grow: 1;}#sk-container-id-1 div.sk-label:hover label.sk-toggleable__label {background-color: #d4ebff;}#sk-container-id-1 div.sk-serial::before {content: \"\";position: absolute;border-left: 1px solid gray;box-sizing: border-box;top: 0;bottom: 0;left: 50%;z-index: 0;}#sk-container-id-1 div.sk-serial {display: flex;flex-direction: column;align-items: center;background-color: white;padding-right: 0.2em;padding-left: 0.2em;position: relative;}#sk-container-id-1 div.sk-item {position: relative;z-index: 1;}#sk-container-id-1 div.sk-parallel {display: flex;align-items: stretch;justify-content: center;background-color: white;position: relative;}#sk-container-id-1 div.sk-item::before, #sk-container-id-1 div.sk-parallel-item::before {content: \"\";position: absolute;border-left: 1px solid gray;box-sizing: border-box;top: 0;bottom: 0;left: 50%;z-index: -1;}#sk-container-id-1 div.sk-parallel-item {display: flex;flex-direction: column;z-index: 1;position: relative;background-color: white;}#sk-container-id-1 div.sk-parallel-item:first-child::after {align-self: flex-end;width: 50%;}#sk-container-id-1 div.sk-parallel-item:last-child::after {align-self: flex-start;width: 50%;}#sk-container-id-1 div.sk-parallel-item:only-child::after {width: 0;}#sk-container-id-1 div.sk-dashed-wrapped {border: 1px dashed gray;margin: 0 0.4em 0.5em 0.4em;box-sizing: border-box;padding-bottom: 0.4em;background-color: white;}#sk-container-id-1 div.sk-label label {font-family: monospace;font-weight: bold;display: inline-block;line-height: 1.2em;}#sk-container-id-1 div.sk-label-container {text-align: center;}#sk-container-id-1 div.sk-container {/* jupyter's `normalize.less` sets `[hidden] { display: none; }` but bootstrap.min.css set `[hidden] { display: none !important; }` so we also need the `!important` here to be able to override the default hidden behavior on the sphinx rendered scikit-learn.org. See: https://github.com/scikit-learn/scikit-learn/issues/21755 */display: inline-block !important;position: relative;}#sk-container-id-1 div.sk-text-repr-fallback {display: none;}</style><div id=\"sk-container-id-1\" class=\"sk-top-container\"><div class=\"sk-text-repr-fallback\"><pre>LinearRegression()</pre><b>In a Jupyter environment, please rerun this cell to show the HTML representation or trust the notebook. <br />On GitHub, the HTML representation is unable to render, please try loading this page with nbviewer.org.</b></div><div class=\"sk-container\" hidden><div class=\"sk-item\"><div class=\"sk-estimator sk-toggleable\"><input class=\"sk-toggleable__control sk-hidden--visually\" id=\"sk-estimator-id-1\" type=\"checkbox\" checked><label for=\"sk-estimator-id-1\" class=\"sk-toggleable__label sk-toggleable__label-arrow\">LinearRegression</label><div class=\"sk-toggleable__content\"><pre>LinearRegression()</pre></div></div></div></div></div>"
            ]
          },
          "metadata": {},
          "execution_count": 8
        }
      ],
      "source": [
        "# Membuat model regresi linier dan melatihnya dengan data pelatihan\n",
        "regressor = LinearRegression()\n",
        "regressor.fit(X_train, y_train)"
      ]
    },
    {
      "cell_type": "code",
      "execution_count": null,
      "metadata": {
        "id": "j1uMGA-ORSN3"
      },
      "outputs": [],
      "source": [
        "#Melakukan prediksi pada data pengujian:\n",
        "y_pred = regressor.predict(X_test)"
      ]
    },
    {
      "cell_type": "code",
      "execution_count": null,
      "metadata": {
        "colab": {
          "base_uri": "https://localhost:8080/",
          "height": 472
        },
        "id": "lzOLBJw_kigx",
        "outputId": "4694280d-2867-43fd-8201-76e5dcb9059b"
      },
      "outputs": [
        {
          "output_type": "display_data",
          "data": {
            "text/plain": [
              "<Figure size 640x480 with 1 Axes>"
            ],
            "image/png": "[encoded data removed]"
          },
          "metadata": {}
        }
      ],
      "source": [
        "# Menampilkan hasil linear regression\n",
        "plt.scatter(X_train, y_train, color='blue', label='Data Training')\n",
        "plt.scatter(X_test, y_test, color='green', label='Data Testing')\n",
        "plt.plot(X_test, y_pred, color='red', linewidth=2, label='Linear Regression')\n",
        "plt.xlabel('Year')\n",
        "plt.ylabel('Population')\n",
        "plt.title('Linear Regression - Indonesia Population')\n",
        "plt.legend()\n",
        "plt.show()"
      ]
    },
    {
      "cell_type": "code",
      "execution_count": null,
      "metadata": {
        "colab": {
          "base_uri": "https://localhost:8080/"
        },
        "id": "5WvmjE1x17BB",
        "outputId": "51650f03-1706-4ffb-a181-d12baaf43497"
      },
      "outputs": [
        {
          "output_type": "stream",
          "name": "stdout",
          "text": [
            "Prediksi populasi di tahun 2019: [2.70327337e+08]\n"
          ]
        },
        {
          "output_type": "stream",
          "name": "stderr",
          "text": [
            "/usr/local/lib/python3.10/dist-packages/sklearn/base.py:439: UserWarning: X does not have valid feature names, but LinearRegression was fitted with feature names\n",
            "  warnings.warn(\n"
          ]
        }
      ],
      "source": [
        "# Prediksi populasi di tahun 2019\n",
        "population_2019 = regressor.predict([[2019]])\n",
        "print(\"Prediksi populasi di tahun 2019:\", population_2019[0])"
      ]
    },
    {
      "cell_type": "code",
      "execution_count": null,
      "metadata": {
        "colab": {
          "base_uri": "https://localhost:8080/"
        },
        "id": "VZvW6227euO3",
        "outputId": "6249ffa8-4536-441a-df6a-b85a37d1a12e"
      },
      "outputs": [
        {
          "output_type": "stream",
          "name": "stdout",
          "text": [
            "MAE: 298231.2411737442\n",
            "MAE Percentage: [[0.11020068923189999]\n",
            " [0.11032226512844778]]\n"
          ]
        },
        {
          "output_type": "stream",
          "name": "stderr",
          "text": [
            "<ipython-input-12-046ff447a67e>:3: VisibleDeprecationWarning: Creating an ndarray from ragged nested sequences (which is a list-or-tuple of lists-or-tuples-or ndarrays with different lengths or shapes) is deprecated. If you meant to do this, you must specify 'dtype=object' when creating the ndarray.\n",
            "  mae_percentage = mae / ([y_actual], population_2019) * 100\n"
          ]
        }
      ],
      "source": [
        "y_actual = dataset[dataset['Year'] == 2019]['Population'].values[0]\n",
        "mae = mean_absolute_error([y_actual], population_2019)\n",
        "mae_percentage = mae / ([y_actual], population_2019) * 100\n",
        "print(\"MAE:\", mae)\n",
        "print(f\"MAE Percentage:\", mae_percentage)"
      ]
    },
    {
      "cell_type": "code",
      "source": [
        "# Prediksi populasi di tahun 2021\n",
        "population_2021 = regressor.predict([[2021]])\n",
        "print(\"Prediksi populasi di tahun 2021:\", population_2021[0])\n",
        "# Prediksi populasi di tahun 2022\n",
        "population_2022 = regressor.predict([[2022]])\n",
        "print(\"Prediksi populasi di tahun 2022:\", population_2022[0])\n",
        "# Prediksi populasi di tahun 2023\n",
        "population_2023 = regressor.predict([[2023]])\n",
        "print(\"Prediksi populasi di tahun 2023:\", population_2023[0])\n",
        "# Prediksi populasi di tahun 2024\n",
        "population_2024 = regressor.predict([[2024]])\n",
        "print(\"Prediksi populasi di tahun 2024:\", population_2024[0])"
      ],
      "metadata": {
        "colab": {
          "base_uri": "https://localhost:8080/"
        },
        "id": "RkuQGCDFJ5y5",
        "outputId": "94677284-30aa-4d7b-e010-18192067338d"
      },
      "execution_count": null,
      "outputs": [
        {
          "output_type": "stream",
          "name": "stdout",
          "text": [
            "Prediksi populasi di tahun 2021: [2.76544662e+08]\n",
            "Prediksi populasi di tahun 2022: [2.79653325e+08]\n",
            "Prediksi populasi di tahun 2023: [2.82761988e+08]\n",
            "Prediksi populasi di tahun 2024: [2.85870651e+08]\n"
          ]
        },
        {
          "output_type": "stream",
          "name": "stderr",
          "text": [
            "/usr/local/lib/python3.10/dist-packages/sklearn/base.py:439: UserWarning: X does not have valid feature names, but LinearRegression was fitted with feature names\n",
            "  warnings.warn(\n",
            "/usr/local/lib/python3.10/dist-packages/sklearn/base.py:439: UserWarning: X does not have valid feature names, but LinearRegression was fitted with feature names\n",
            "  warnings.warn(\n",
            "/usr/local/lib/python3.10/dist-packages/sklearn/base.py:439: UserWarning: X does not have valid feature names, but LinearRegression was fitted with feature names\n",
            "  warnings.warn(\n",
            "/usr/local/lib/python3.10/dist-packages/sklearn/base.py:439: UserWarning: X does not have valid feature names, but LinearRegression was fitted with feature names\n",
            "  warnings.warn(\n"
          ]
        }
      ]
    }
  ],
  "metadata": {
    "colab": {
      "provenance": []
    },
    "kernelspec": {
      "display_name": "Python 3",
      "name": "python3"
    },
    "language_info": {
      "name": "python"
    }
  },
  "nbformat": 4,
  "nbformat_minor": 0
}